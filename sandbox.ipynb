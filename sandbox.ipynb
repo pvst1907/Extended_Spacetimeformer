{
 "cells": [
  {
   "cell_type": "code",
   "execution_count": 8,
   "id": "652d2b98-5d85-4a8d-812a-a322b72c9c16",
   "metadata": {},
   "outputs": [],
   "source": [
    "import torch.nn as nn\n",
    "import numpy as np\n",
    "import matplotlib.pyplot as plt\n",
    "from transformer import Transformer"
   ]
  },
  {
   "cell_type": "code",
   "execution_count": 2,
   "id": "de0f480e-9858-4d7c-87ce-796e0b720447",
   "metadata": {},
   "outputs": [
    {
     "data": {
      "text/plain": [
       "array([ 0.        ,  0.84147098,  0.90929743,  0.14112001, -0.7568025 ,\n",
       "       -0.95892427, -0.2794155 ,  0.6569866 ,  0.98935825,  0.41211849,\n",
       "       -0.54402111, -0.99999021, -0.53657292,  0.42016704,  0.99060736,\n",
       "        0.65028784, -0.28790332, -0.96139749, -0.75098725,  0.14987721])"
      ]
     },
     "execution_count": 2,
     "metadata": {},
     "output_type": "execute_result"
    }
   ],
   "source": [
    "sequence = np.sin(np.arange(0,20,1))\n",
    "sequence"
   ]
  },
  {
   "cell_type": "code",
   "execution_count": 3,
   "id": "ec9bc76b-36cc-40b2-8f84-d26e729518df",
   "metadata": {},
   "outputs": [],
   "source": [
    "from utils import load_src_trg"
   ]
  },
  {
   "cell_type": "code",
   "execution_count": 4,
   "id": "1e717a77-45e9-42cf-8bfa-f273d1c4a901",
   "metadata": {},
   "outputs": [],
   "source": [
    "data_iter = load_src_trg(sequence, 5, 5, 1)"
   ]
  },
  {
   "cell_type": "code",
   "execution_count": 5,
   "id": "629f25e5-6338-4314-b700-3af0693e4ba4",
   "metadata": {},
   "outputs": [
    {
     "name": "stdout",
     "output_type": "stream",
     "text": [
      "tensor([[ 0.0000,  0.8415,  0.9093,  0.1411, -0.7568]], dtype=torch.float64)\n",
      "tensor([[-0.7568, -0.9589, -0.2794,  0.6570,  0.9894]], dtype=torch.float64)\n",
      "tensor([[-0.9589, -0.2794,  0.6570,  0.9894,  0.4121]], dtype=torch.float64)\n",
      "-------\n",
      "tensor([[ 0.0000,  0.8415,  0.9093,  0.1411, -0.7568]], dtype=torch.float64)\n",
      "tensor([[-0.7568, -0.9589, -0.2794,  0.6570,  0.9894]], dtype=torch.float64)\n",
      "tensor([[-0.9589, -0.2794,  0.6570,  0.9894,  0.4121]], dtype=torch.float64)\n",
      "-------\n",
      "tensor([[ 0.0000,  0.8415,  0.9093,  0.1411, -0.7568]], dtype=torch.float64)\n",
      "tensor([[-0.7568, -0.9589, -0.2794,  0.6570,  0.9894]], dtype=torch.float64)\n",
      "tensor([[-0.9589, -0.2794,  0.6570,  0.9894,  0.4121]], dtype=torch.float64)\n",
      "-------\n",
      "tensor([[ 0.0000,  0.8415,  0.9093,  0.1411, -0.7568]], dtype=torch.float64)\n",
      "tensor([[-0.7568, -0.9589, -0.2794,  0.6570,  0.9894]], dtype=torch.float64)\n",
      "tensor([[-0.9589, -0.2794,  0.6570,  0.9894,  0.4121]], dtype=torch.float64)\n",
      "-------\n",
      "tensor([[ 0.0000,  0.8415,  0.9093,  0.1411, -0.7568]], dtype=torch.float64)\n",
      "tensor([[-0.7568, -0.9589, -0.2794,  0.6570,  0.9894]], dtype=torch.float64)\n",
      "tensor([[-0.9589, -0.2794,  0.6570,  0.9894,  0.4121]], dtype=torch.float64)\n",
      "-------\n",
      "tensor([[ 0.0000,  0.8415,  0.9093,  0.1411, -0.7568]], dtype=torch.float64)\n",
      "tensor([[-0.7568, -0.9589, -0.2794,  0.6570,  0.9894]], dtype=torch.float64)\n",
      "tensor([[-0.9589, -0.2794,  0.6570,  0.9894,  0.4121]], dtype=torch.float64)\n",
      "-------\n",
      "tensor([[ 0.0000,  0.8415,  0.9093,  0.1411, -0.7568]], dtype=torch.float64)\n",
      "tensor([[-0.7568, -0.9589, -0.2794,  0.6570,  0.9894]], dtype=torch.float64)\n",
      "tensor([[-0.9589, -0.2794,  0.6570,  0.9894,  0.4121]], dtype=torch.float64)\n",
      "-------\n",
      "tensor([[ 0.0000,  0.8415,  0.9093,  0.1411, -0.7568]], dtype=torch.float64)\n",
      "tensor([[-0.7568, -0.9589, -0.2794,  0.6570,  0.9894]], dtype=torch.float64)\n",
      "tensor([[-0.9589, -0.2794,  0.6570,  0.9894,  0.4121]], dtype=torch.float64)\n",
      "-------\n",
      "tensor([[ 0.0000,  0.8415,  0.9093,  0.1411, -0.7568]], dtype=torch.float64)\n",
      "tensor([[-0.7568, -0.9589, -0.2794,  0.6570,  0.9894]], dtype=torch.float64)\n",
      "tensor([[-0.9589, -0.2794,  0.6570,  0.9894,  0.4121]], dtype=torch.float64)\n",
      "-------\n",
      "tensor([[ 0.0000,  0.8415,  0.9093,  0.1411, -0.7568]], dtype=torch.float64)\n",
      "tensor([[-0.7568, -0.9589, -0.2794,  0.6570,  0.9894]], dtype=torch.float64)\n",
      "tensor([[-0.9589, -0.2794,  0.6570,  0.9894,  0.4121]], dtype=torch.float64)\n",
      "-------\n",
      "tensor([[ 0.0000,  0.8415,  0.9093,  0.1411, -0.7568]], dtype=torch.float64)\n",
      "tensor([[-0.7568, -0.9589, -0.2794,  0.6570,  0.9894]], dtype=torch.float64)\n",
      "tensor([[-0.9589, -0.2794,  0.6570,  0.9894,  0.4121]], dtype=torch.float64)\n",
      "-------\n",
      "tensor([[ 0.0000,  0.8415,  0.9093,  0.1411, -0.7568]], dtype=torch.float64)\n",
      "tensor([[-0.7568, -0.9589, -0.2794,  0.6570,  0.9894]], dtype=torch.float64)\n",
      "tensor([[-0.9589, -0.2794,  0.6570,  0.9894,  0.4121]], dtype=torch.float64)\n",
      "-------\n",
      "tensor([[ 0.0000,  0.8415,  0.9093,  0.1411, -0.7568]], dtype=torch.float64)\n",
      "tensor([[-0.7568, -0.9589, -0.2794,  0.6570,  0.9894]], dtype=torch.float64)\n",
      "tensor([[-0.9589, -0.2794,  0.6570,  0.9894,  0.4121]], dtype=torch.float64)\n",
      "-------\n",
      "tensor([[ 0.0000,  0.8415,  0.9093,  0.1411, -0.7568]], dtype=torch.float64)\n",
      "tensor([[-0.7568, -0.9589, -0.2794,  0.6570,  0.9894]], dtype=torch.float64)\n",
      "tensor([[-0.9589, -0.2794,  0.6570,  0.9894,  0.4121]], dtype=torch.float64)\n",
      "-------\n",
      "tensor([[ 0.0000,  0.8415,  0.9093,  0.1411, -0.7568]], dtype=torch.float64)\n",
      "tensor([[-0.7568, -0.9589, -0.2794,  0.6570,  0.9894]], dtype=torch.float64)\n",
      "tensor([[-0.9589, -0.2794,  0.6570,  0.9894,  0.4121]], dtype=torch.float64)\n",
      "-------\n",
      "tensor([[ 0.0000,  0.8415,  0.9093,  0.1411, -0.7568]], dtype=torch.float64)\n",
      "tensor([[-0.7568, -0.9589, -0.2794,  0.6570,  0.9894]], dtype=torch.float64)\n",
      "tensor([[-0.9589, -0.2794,  0.6570,  0.9894,  0.4121]], dtype=torch.float64)\n",
      "-------\n"
     ]
    }
   ],
   "source": [
    "for src, trg, trg_y in data_iter:\n",
    "    print(src)\n",
    "    print(trg)\n",
    "    print(trg_y)\n",
    "    print('-------')"
   ]
  },
  {
   "cell_type": "code",
   "execution_count": 7,
   "id": "44373ea7-bfc7-4479-ab48-74c055a0f443",
   "metadata": {},
   "outputs": [],
   "source": [
    "model = Transformer(pred_offset = 5,\n",
    "                    input_size = 1,\n",
    "                    output_size = 1,\n",
    "                    max_seq_length = 5,\n",
    "                    embedding_size = 3,\n",
    "                    num_basic_encoders = 2,\n",
    "                    num_atten_heads = 1,\n",
    "                    num_basic_decoders = 2)"
   ]
  },
  {
   "cell_type": "code",
   "execution_count": 9,
   "id": "d2277ae3-628e-4777-9878-cb0a3e92181e",
   "metadata": {},
   "outputs": [
    {
     "ename": "ValueError",
     "evalue": "Expected 2D array, got 1D array instead:\narray=[ 0.          0.84147098  0.90929743  0.14112001 -0.7568025  -0.95892427\n -0.2794155   0.6569866   0.98935825  0.41211849 -0.54402111 -0.99999021\n -0.53657292  0.42016704  0.99060736  0.65028784 -0.28790332 -0.96139749\n -0.75098725  0.14987721].\nReshape your data either using array.reshape(-1, 1) if your data has a single feature or array.reshape(1, -1) if it contains a single sample.",
     "output_type": "error",
     "traceback": [
      "\u001b[0;31m---------------------------------------------------------------------------\u001b[0m",
      "\u001b[0;31mValueError\u001b[0m                                Traceback (most recent call last)",
      "Input \u001b[0;32mIn [9]\u001b[0m, in \u001b[0;36m<cell line: 1>\u001b[0;34m()\u001b[0m\n\u001b[0;32m----> 1\u001b[0m \u001b[43mmodel\u001b[49m\u001b[38;5;241;43m.\u001b[39;49m\u001b[43mstart_training\u001b[49m\u001b[43m(\u001b[49m\u001b[43msequence\u001b[49m\u001b[38;5;241;43m=\u001b[39;49m\u001b[43msequence\u001b[49m\u001b[43m,\u001b[49m\n\u001b[1;32m      2\u001b[0m \u001b[43m                     \u001b[49m\u001b[43mloss\u001b[49m\u001b[38;5;241;43m=\u001b[39;49m\u001b[43mnn\u001b[49m\u001b[38;5;241;43m.\u001b[39;49m\u001b[43mMSELoss\u001b[49m\u001b[43m,\u001b[49m\n\u001b[1;32m      3\u001b[0m \u001b[43m                     \u001b[49m\u001b[43mmetric\u001b[49m\u001b[38;5;241;43m=\u001b[39;49m\u001b[43mnn\u001b[49m\u001b[38;5;241;43m.\u001b[39;49m\u001b[43mMSELoss\u001b[49m\u001b[43m,\u001b[49m\n\u001b[1;32m      4\u001b[0m \u001b[43m                     \u001b[49m\u001b[43mepochs\u001b[49m\u001b[38;5;241;43m=\u001b[39;49m\u001b[38;5;241;43m10\u001b[39;49m\u001b[43m,\u001b[49m\n\u001b[1;32m      5\u001b[0m \u001b[43m                     \u001b[49m\u001b[43mbatch_size\u001b[49m\u001b[38;5;241;43m=\u001b[39;49m\u001b[38;5;241;43m2\u001b[39;49m\u001b[43m,\u001b[49m\n\u001b[1;32m      6\u001b[0m \u001b[43m                     \u001b[49m\u001b[43mnum_warmup_steps\u001b[49m\u001b[38;5;241;43m=\u001b[39;49m\u001b[38;5;241;43m50\u001b[39;49m\u001b[43m,\u001b[49m\n\u001b[1;32m      7\u001b[0m \u001b[43m                     \u001b[49m\u001b[43moptimizer_params\u001b[49m\u001b[38;5;241;43m=\u001b[39;49m\u001b[43m{\u001b[49m\u001b[38;5;124;43m'\u001b[39;49m\u001b[38;5;124;43mbeta1\u001b[39;49m\u001b[38;5;124;43m'\u001b[39;49m\u001b[43m:\u001b[49m\u001b[38;5;241;43m0.01\u001b[39;49m\u001b[43m,\u001b[49m\u001b[43m \u001b[49m\u001b[38;5;124;43m'\u001b[39;49m\u001b[38;5;124;43mbeta2\u001b[39;49m\u001b[38;5;124;43m'\u001b[39;49m\u001b[43m:\u001b[49m\u001b[43m \u001b[49m\u001b[38;5;241;43m0.01\u001b[39;49m\u001b[43m,\u001b[49m\u001b[43m \u001b[49m\u001b[38;5;124;43m'\u001b[39;49m\u001b[38;5;124;43mepsilon\u001b[39;49m\u001b[38;5;124;43m'\u001b[39;49m\u001b[43m:\u001b[49m\u001b[43m \u001b[49m\u001b[38;5;241;43m0.001\u001b[39;49m\u001b[43m}\u001b[49m\u001b[43m,\u001b[49m\n\u001b[1;32m      8\u001b[0m \u001b[43m                     \u001b[49m\u001b[43mstandardize\u001b[49m\u001b[38;5;241;43m=\u001b[39;49m\u001b[38;5;28;43;01mTrue\u001b[39;49;00m\u001b[43m,\u001b[49m\n\u001b[1;32m      9\u001b[0m \u001b[43m                     \u001b[49m\u001b[43mverbose\u001b[49m\u001b[38;5;241;43m=\u001b[39;49m\u001b[38;5;28;43;01mTrue\u001b[39;49;00m\u001b[43m,\u001b[49m\n\u001b[1;32m     10\u001b[0m \u001b[43m                     \u001b[49m\u001b[43mplot\u001b[49m\u001b[38;5;241;43m=\u001b[39;49m\u001b[38;5;28;43;01mTrue\u001b[39;49;00m\u001b[43m)\u001b[49m\n",
      "File \u001b[0;32m~/Dropbox/02 - Philipp Stauffenberg/Columbia|Documents/05 - Fall 22/04 - Machine Learning and High Dimensional Data Mining/06 - Project/TS_Transformer/transformer.py:50\u001b[0m, in \u001b[0;36mTransformer.start_training\u001b[0;34m(self, sequence, loss, metric, epochs, batch_size, num_warmup_steps, optimizer_params, standardize, verbose, plot)\u001b[0m\n\u001b[1;32m     38\u001b[0m \u001b[38;5;28;01mdef\u001b[39;00m \u001b[38;5;21mstart_training\u001b[39m(\u001b[38;5;28mself\u001b[39m,\n\u001b[1;32m     39\u001b[0m                    sequence,\n\u001b[1;32m     40\u001b[0m                    loss,\n\u001b[0;32m   (...)\u001b[0m\n\u001b[1;32m     47\u001b[0m                    verbose\u001b[38;5;241m=\u001b[39m\u001b[38;5;28;01mFalse\u001b[39;00m,\n\u001b[1;32m     48\u001b[0m                    plot\u001b[38;5;241m=\u001b[39m\u001b[38;5;28;01mFalse\u001b[39;00m):\n\u001b[1;32m     49\u001b[0m     \u001b[38;5;28;01mif\u001b[39;00m standardize:\n\u001b[0;32m---> 50\u001b[0m         scaler \u001b[38;5;241m=\u001b[39m \u001b[43mpreprocessing\u001b[49m\u001b[38;5;241;43m.\u001b[39;49m\u001b[43mMinMaxScaler\u001b[49m\u001b[43m(\u001b[49m\u001b[43m)\u001b[49m\u001b[38;5;241;43m.\u001b[39;49m\u001b[43mfit\u001b[49m\u001b[43m(\u001b[49m\u001b[43msequence\u001b[49m\u001b[43m)\u001b[49m\n\u001b[1;32m     51\u001b[0m         sequence_std \u001b[38;5;241m=\u001b[39m torch\u001b[38;5;241m.\u001b[39mfrom_numpy(scaler\u001b[38;5;241m.\u001b[39mtransform(sequence))\u001b[38;5;241m.\u001b[39mfloat()\n\u001b[1;32m     52\u001b[0m     \u001b[38;5;28;01melse\u001b[39;00m:\n",
      "File \u001b[0;32m~/opt/anaconda3/envs/torch_m1/lib/python3.9/site-packages/sklearn/preprocessing/_data.py:420\u001b[0m, in \u001b[0;36mMinMaxScaler.fit\u001b[0;34m(self, X, y)\u001b[0m\n\u001b[1;32m    418\u001b[0m \u001b[38;5;66;03m# Reset internal state before fitting\u001b[39;00m\n\u001b[1;32m    419\u001b[0m \u001b[38;5;28mself\u001b[39m\u001b[38;5;241m.\u001b[39m_reset()\n\u001b[0;32m--> 420\u001b[0m \u001b[38;5;28;01mreturn\u001b[39;00m \u001b[38;5;28;43mself\u001b[39;49m\u001b[38;5;241;43m.\u001b[39;49m\u001b[43mpartial_fit\u001b[49m\u001b[43m(\u001b[49m\u001b[43mX\u001b[49m\u001b[43m,\u001b[49m\u001b[43m \u001b[49m\u001b[43my\u001b[49m\u001b[43m)\u001b[49m\n",
      "File \u001b[0;32m~/opt/anaconda3/envs/torch_m1/lib/python3.9/site-packages/sklearn/preprocessing/_data.py:457\u001b[0m, in \u001b[0;36mMinMaxScaler.partial_fit\u001b[0;34m(self, X, y)\u001b[0m\n\u001b[1;32m    451\u001b[0m     \u001b[38;5;28;01mraise\u001b[39;00m \u001b[38;5;167;01mTypeError\u001b[39;00m(\n\u001b[1;32m    452\u001b[0m         \u001b[38;5;124m\"\u001b[39m\u001b[38;5;124mMinMaxScaler does not support sparse input. \u001b[39m\u001b[38;5;124m\"\u001b[39m\n\u001b[1;32m    453\u001b[0m         \u001b[38;5;124m\"\u001b[39m\u001b[38;5;124mConsider using MaxAbsScaler instead.\u001b[39m\u001b[38;5;124m\"\u001b[39m\n\u001b[1;32m    454\u001b[0m     )\n\u001b[1;32m    456\u001b[0m first_pass \u001b[38;5;241m=\u001b[39m \u001b[38;5;129;01mnot\u001b[39;00m \u001b[38;5;28mhasattr\u001b[39m(\u001b[38;5;28mself\u001b[39m, \u001b[38;5;124m\"\u001b[39m\u001b[38;5;124mn_samples_seen_\u001b[39m\u001b[38;5;124m\"\u001b[39m)\n\u001b[0;32m--> 457\u001b[0m X \u001b[38;5;241m=\u001b[39m \u001b[38;5;28;43mself\u001b[39;49m\u001b[38;5;241;43m.\u001b[39;49m\u001b[43m_validate_data\u001b[49m\u001b[43m(\u001b[49m\n\u001b[1;32m    458\u001b[0m \u001b[43m    \u001b[49m\u001b[43mX\u001b[49m\u001b[43m,\u001b[49m\n\u001b[1;32m    459\u001b[0m \u001b[43m    \u001b[49m\u001b[43mreset\u001b[49m\u001b[38;5;241;43m=\u001b[39;49m\u001b[43mfirst_pass\u001b[49m\u001b[43m,\u001b[49m\n\u001b[1;32m    460\u001b[0m \u001b[43m    \u001b[49m\u001b[43mdtype\u001b[49m\u001b[38;5;241;43m=\u001b[39;49m\u001b[43mFLOAT_DTYPES\u001b[49m\u001b[43m,\u001b[49m\n\u001b[1;32m    461\u001b[0m \u001b[43m    \u001b[49m\u001b[43mforce_all_finite\u001b[49m\u001b[38;5;241;43m=\u001b[39;49m\u001b[38;5;124;43m\"\u001b[39;49m\u001b[38;5;124;43mallow-nan\u001b[39;49m\u001b[38;5;124;43m\"\u001b[39;49m\u001b[43m,\u001b[49m\n\u001b[1;32m    462\u001b[0m \u001b[43m\u001b[49m\u001b[43m)\u001b[49m\n\u001b[1;32m    464\u001b[0m data_min \u001b[38;5;241m=\u001b[39m np\u001b[38;5;241m.\u001b[39mnanmin(X, axis\u001b[38;5;241m=\u001b[39m\u001b[38;5;241m0\u001b[39m)\n\u001b[1;32m    465\u001b[0m data_max \u001b[38;5;241m=\u001b[39m np\u001b[38;5;241m.\u001b[39mnanmax(X, axis\u001b[38;5;241m=\u001b[39m\u001b[38;5;241m0\u001b[39m)\n",
      "File \u001b[0;32m~/opt/anaconda3/envs/torch_m1/lib/python3.9/site-packages/sklearn/base.py:577\u001b[0m, in \u001b[0;36mBaseEstimator._validate_data\u001b[0;34m(self, X, y, reset, validate_separately, **check_params)\u001b[0m\n\u001b[1;32m    575\u001b[0m     \u001b[38;5;28;01mraise\u001b[39;00m \u001b[38;5;167;01mValueError\u001b[39;00m(\u001b[38;5;124m\"\u001b[39m\u001b[38;5;124mValidation should be done on X, y or both.\u001b[39m\u001b[38;5;124m\"\u001b[39m)\n\u001b[1;32m    576\u001b[0m \u001b[38;5;28;01melif\u001b[39;00m \u001b[38;5;129;01mnot\u001b[39;00m no_val_X \u001b[38;5;129;01mand\u001b[39;00m no_val_y:\n\u001b[0;32m--> 577\u001b[0m     X \u001b[38;5;241m=\u001b[39m \u001b[43mcheck_array\u001b[49m\u001b[43m(\u001b[49m\u001b[43mX\u001b[49m\u001b[43m,\u001b[49m\u001b[43m \u001b[49m\u001b[43minput_name\u001b[49m\u001b[38;5;241;43m=\u001b[39;49m\u001b[38;5;124;43m\"\u001b[39;49m\u001b[38;5;124;43mX\u001b[39;49m\u001b[38;5;124;43m\"\u001b[39;49m\u001b[43m,\u001b[49m\u001b[43m \u001b[49m\u001b[38;5;241;43m*\u001b[39;49m\u001b[38;5;241;43m*\u001b[39;49m\u001b[43mcheck_params\u001b[49m\u001b[43m)\u001b[49m\n\u001b[1;32m    578\u001b[0m     out \u001b[38;5;241m=\u001b[39m X\n\u001b[1;32m    579\u001b[0m \u001b[38;5;28;01melif\u001b[39;00m no_val_X \u001b[38;5;129;01mand\u001b[39;00m \u001b[38;5;129;01mnot\u001b[39;00m no_val_y:\n",
      "File \u001b[0;32m~/opt/anaconda3/envs/torch_m1/lib/python3.9/site-packages/sklearn/utils/validation.py:879\u001b[0m, in \u001b[0;36mcheck_array\u001b[0;34m(array, accept_sparse, accept_large_sparse, dtype, order, copy, force_all_finite, ensure_2d, allow_nd, ensure_min_samples, ensure_min_features, estimator, input_name)\u001b[0m\n\u001b[1;32m    877\u001b[0m     \u001b[38;5;66;03m# If input is 1D raise error\u001b[39;00m\n\u001b[1;32m    878\u001b[0m     \u001b[38;5;28;01mif\u001b[39;00m array\u001b[38;5;241m.\u001b[39mndim \u001b[38;5;241m==\u001b[39m \u001b[38;5;241m1\u001b[39m:\n\u001b[0;32m--> 879\u001b[0m         \u001b[38;5;28;01mraise\u001b[39;00m \u001b[38;5;167;01mValueError\u001b[39;00m(\n\u001b[1;32m    880\u001b[0m             \u001b[38;5;124m\"\u001b[39m\u001b[38;5;124mExpected 2D array, got 1D array instead:\u001b[39m\u001b[38;5;130;01m\\n\u001b[39;00m\u001b[38;5;124marray=\u001b[39m\u001b[38;5;132;01m{}\u001b[39;00m\u001b[38;5;124m.\u001b[39m\u001b[38;5;130;01m\\n\u001b[39;00m\u001b[38;5;124m\"\u001b[39m\n\u001b[1;32m    881\u001b[0m             \u001b[38;5;124m\"\u001b[39m\u001b[38;5;124mReshape your data either using array.reshape(-1, 1) if \u001b[39m\u001b[38;5;124m\"\u001b[39m\n\u001b[1;32m    882\u001b[0m             \u001b[38;5;124m\"\u001b[39m\u001b[38;5;124myour data has a single feature or array.reshape(1, -1) \u001b[39m\u001b[38;5;124m\"\u001b[39m\n\u001b[1;32m    883\u001b[0m             \u001b[38;5;124m\"\u001b[39m\u001b[38;5;124mif it contains a single sample.\u001b[39m\u001b[38;5;124m\"\u001b[39m\u001b[38;5;241m.\u001b[39mformat(array)\n\u001b[1;32m    884\u001b[0m         )\n\u001b[1;32m    886\u001b[0m \u001b[38;5;28;01mif\u001b[39;00m dtype_numeric \u001b[38;5;129;01mand\u001b[39;00m array\u001b[38;5;241m.\u001b[39mdtype\u001b[38;5;241m.\u001b[39mkind \u001b[38;5;129;01min\u001b[39;00m \u001b[38;5;124m\"\u001b[39m\u001b[38;5;124mUSV\u001b[39m\u001b[38;5;124m\"\u001b[39m:\n\u001b[1;32m    887\u001b[0m     \u001b[38;5;28;01mraise\u001b[39;00m \u001b[38;5;167;01mValueError\u001b[39;00m(\n\u001b[1;32m    888\u001b[0m         \u001b[38;5;124m\"\u001b[39m\u001b[38;5;124mdtype=\u001b[39m\u001b[38;5;124m'\u001b[39m\u001b[38;5;124mnumeric\u001b[39m\u001b[38;5;124m'\u001b[39m\u001b[38;5;124m is not compatible with arrays of bytes/strings.\u001b[39m\u001b[38;5;124m\"\u001b[39m\n\u001b[1;32m    889\u001b[0m         \u001b[38;5;124m\"\u001b[39m\u001b[38;5;124mConvert your data to numeric values explicitly instead.\u001b[39m\u001b[38;5;124m\"\u001b[39m\n\u001b[1;32m    890\u001b[0m     )\n",
      "\u001b[0;31mValueError\u001b[0m: Expected 2D array, got 1D array instead:\narray=[ 0.          0.84147098  0.90929743  0.14112001 -0.7568025  -0.95892427\n -0.2794155   0.6569866   0.98935825  0.41211849 -0.54402111 -0.99999021\n -0.53657292  0.42016704  0.99060736  0.65028784 -0.28790332 -0.96139749\n -0.75098725  0.14987721].\nReshape your data either using array.reshape(-1, 1) if your data has a single feature or array.reshape(1, -1) if it contains a single sample."
     ]
    }
   ],
   "source": [
    "model.start_training(sequence=sequence,\n",
    "                     loss=nn.MSELoss,\n",
    "                     metric=nn.MSELoss,\n",
    "                     epochs=10,\n",
    "                     batch_size=2,\n",
    "                     num_warmup_steps=50,\n",
    "                     optimizer_params={'beta1':0.01, 'beta2': 0.01, 'epsilon': 0.001},\n",
    "                     standardize=True,\n",
    "                     verbose=True,\n",
    "                     plot=True)"
   ]
  },
  {
   "cell_type": "code",
   "execution_count": null,
   "id": "dee485df-1d55-4ca2-852c-91722cf66b5c",
   "metadata": {},
   "outputs": [],
   "source": []
  }
 ],
 "metadata": {
  "kernelspec": {
   "display_name": "Python 3 (ipykernel)",
   "language": "python",
   "name": "python3"
  },
  "language_info": {
   "codemirror_mode": {
    "name": "ipython",
    "version": 3
   },
   "file_extension": ".py",
   "mimetype": "text/x-python",
   "name": "python",
   "nbconvert_exporter": "python",
   "pygments_lexer": "ipython3",
   "version": "3.9.13"
  }
 },
 "nbformat": 4,
 "nbformat_minor": 5
}
