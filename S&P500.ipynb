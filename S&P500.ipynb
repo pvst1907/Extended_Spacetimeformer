{
 "cells": [
  {
   "cell_type": "code",
   "execution_count": 11,
   "id": "a11f2599-f9e9-4067-ae93-9ae2f956df82",
   "metadata": {
    "scrolled": true
   },
   "outputs": [],
   "source": [
    "import torch.nn as nn\n",
    "import numpy as np\n",
    "import yfinance as yf\n",
    "import pandas as pd\n",
    "import matplotlib.pyplot as plt\n",
    "from sklearn import preprocessing\n",
    "from transformer import SpaceTimeFormer\n",
    "import torch\n",
    "import datetime as dt"
   ]
  },
  {
   "cell_type": "code",
   "execution_count": null,
   "id": "5a603a34-680a-4dc1-89d7-31bac62cee32",
   "metadata": {
    "tags": []
   },
   "outputs": [
    {
     "name": "stdout",
     "output_type": "stream",
     "text": [
      "[*********************100%***********************]  1 of 1 completed\n",
      "[*********************100%***********************]  1 of 1 completed"
     ]
    }
   ],
   "source": [
    "def download_data(TICKER, START_DATE, END_DATE):\n",
    "    data = yf.download(TICKER, start= START_DATE, end = END_DATE)\n",
    "    data = data['Close']\n",
    "    return data\n",
    "\n",
    "date_start = '2021-01-03'\n",
    "date_end = '2022-12-03'\n",
    "\n",
    "#Stocks\n",
    "ticker = {\n",
    "    'S&P500': '^GSPC',\n",
    "    'UnitedHealth Group': 'UNH',\n",
    "    'Goldman Sachs': 'GS',\n",
    "    'Home Depot': 'HD',\n",
    "    'Amgen': 'AMG',\n",
    "    'McDonalds': 'MCD',\n",
    "    'Microsoft': 'MSFT'\n",
    "}\n",
    "\n",
    "#load data\n",
    "df = pd.concat([download_data(name, date_start, date_end) for name in ticker.values()], axis=1)\n",
    "\n",
    "#rename columns\n",
    "df.set_axis([name for name in ticker.keys()], axis=1, copy=True)\n",
    "\n",
    "#calculate returns\n",
    "df = df.pct_change(1)\n",
    "df.replace([np.inf, -np.inf], np.nan, inplace=True)\n",
    "df = df.dropna()\n",
    "datetime = df.index\n",
    "df = df.to_numpy().transpose()"
   ]
  },
  {
   "cell_type": "code",
   "execution_count": null,
   "id": "ce6f8fda",
   "metadata": {},
   "outputs": [],
   "source": [
    "''' Run only if you change tickers '''\n",
    "\n",
    "# def create_sectors_list(ticker):\n",
    "#     res = []\n",
    "#     temp = {}\n",
    "#     counter = 1\n",
    "#     for stock, ticker in ticker.items():\n",
    "#         try:\n",
    "#             sec = yf.Ticker(ticker).info['sector']\n",
    "#             if sec in temp:\n",
    "#                 res.append(temp[sec])\n",
    "#             else:\n",
    "#                 temp[sec] = counter\n",
    "#                 res.append(temp[sec])\n",
    "#                 counter +=1\n",
    "#         except:\n",
    "#             continue\n",
    "#     return res\n",
    "\n",
    "# sectors_list = create_sectors_list(ticker)"
   ]
  },
  {
   "cell_type": "code",
   "execution_count": null,
   "id": "74e709f0",
   "metadata": {},
   "outputs": [],
   "source": [
    "sectors_list = [1,2,3,2,3,4]"
   ]
  },
  {
   "cell_type": "code",
   "execution_count": null,
   "id": "fb70869f-6156-49ef-82ee-ee2f06c26f83",
   "metadata": {},
   "outputs": [],
   "source": [
    "sequence_souce = df[1:, :]\n",
    "sequence_target = df[0, :].reshape(1,-1)"
   ]
  },
  {
   "cell_type": "code",
   "execution_count": null,
   "id": "08475997-90f0-447d-9781-5c7d62a43ef1",
   "metadata": {},
   "outputs": [],
   "source": [
    "split = 0.7\n",
    "pred_window = 1\n",
    "seq_length = 5\n",
    "datetime_train = datetime[:int(split*len(datetime))]\n",
    "datetime_test = datetime[int(split*len(datetime)):]\n",
    "sequence_source_train = sequence_souce[:, :int(np.shape(sequence_souce)[1]*split)]\n",
    "sequence_source_test = sequence_souce[:, int(np.shape(sequence_souce)[1]*split):]\n",
    "sequence_target_train = sequence_target[:, :int(np.shape(sequence_target)[1]*split)]\n",
    "sequence_target_test = sequence_target[:, int(np.shape(sequence_target)[1]*split):]"
   ]
  },
  {
   "cell_type": "code",
   "execution_count": null,
   "id": "c8b8656b",
   "metadata": {},
   "outputs": [],
   "source": [
    "## Scaling ###\n",
    "from sklearn.preprocessing import MinMaxScaler\n",
    "from sklearn.preprocessing import StandardScaler\n",
    "scaler = StandardScaler()\n",
    "scaler.fit(np.transpose(sequence_source_train))\n",
    "sequence_source_train = np.transpose(scaler.transform(np.transpose(sequence_source_train)))\n",
    "sequence_source_test = np.transpose(scaler.transform(np.transpose(sequence_source_test)))"
   ]
  },
  {
   "cell_type": "code",
   "execution_count": null,
   "id": "bc5a60f5-9992-4687-b233-dd20bd44ca9d",
   "metadata": {},
   "outputs": [],
   "source": [
    "model = SpaceTimeFormer(pred_offset = pred_window,\n",
    "                        input_size = 6,\n",
    "                        output_size = 1,\n",
    "                        seq_length = seq_length,\n",
    "                        sectors_list = sectors_list,\n",
    "                        datetime_index = datetime,\n",
    "                        embedding_size_time = 3,\n",
    "                        embedding_size_variable = 3,\n",
    "                        embedding_size_sector = 3)"
   ]
  },
  {
   "cell_type": "code",
   "execution_count": null,
   "id": "efab9d59-ad15-4dcb-a69d-9c60e1e92bbc",
   "metadata": {},
   "outputs": [],
   "source": [
    "model.start_training(source=sequence_source_train,\n",
    "                     target=sequence_target_train,\n",
    "                     loss=nn.MSELoss(),\n",
    "                     metric=nn.MSELoss(),\n",
    "                     epochs=50,\n",
    "                     batch_size=64,\n",
    "                     learning_rate=1e-3,\n",
    "                     standardize=False,\n",
    "                     verbose=False,\n",
    "                     plot=True)"
   ]
  },
  {
   "cell_type": "code",
   "execution_count": null,
   "id": "b979dfac-829e-4c72-b615-d3d90095d3ac",
   "metadata": {},
   "outputs": [],
   "source": [
    "source = sequence_source_train\n",
    "target = sequence_target_train\n",
    "\n",
    "l = np.shape(sequence_source_train)[1]\n",
    "y_hat = np.zeros((1,l))\n",
    "y = target\n",
    "\n",
    "src_idx_1, src_idx_2 = 0, 0\n",
    "trg_idx_1, trg_idx_2 = 1, 1\n",
    "\n",
    "while trg_idx_2 < l:\n",
    "    src_idx_2 = src_idx_1 + seq_length\n",
    "    trg_idx_2 = trg_idx_1 + seq_length + pred_window - 1\n",
    "    \n",
    "    src = source[:, src_idx_1:src_idx_2]\n",
    "    trg_stub = target[:, trg_idx_1:trg_idx_2-pred_window]\n",
    "    y_hat[0, trg_idx_2-pred_window:trg_idx_2] = model.predict(src, trg_stub, False)\n",
    "    \n",
    "    src_idx_1 += pred_window\n",
    "    trg_idx_1 += pred_window\n",
    "\n",
    "plt.plot(y_hat[0,seq_length:], label = 'predictions')\n",
    "plt.plot(y[0,seq_length:],label = 'true values')\n",
    "plt.legend()\n",
    "plt.show()"
   ]
  },
  {
   "cell_type": "code",
   "execution_count": null,
   "id": "a3af384e-ab5d-4e9a-bdab-e6fe2cfb530b",
   "metadata": {},
   "outputs": [],
   "source": [
    "source = sequence_source_test\n",
    "target = sequence_target_test\n",
    "\n",
    "l = np.shape(sequence_source_test)[1]\n",
    "y_hat = np.zeros((1,l))\n",
    "y = target\n",
    "\n",
    "src_idx_1, src_idx_2 = 0, 0\n",
    "trg_idx_1, trg_idx_2 = 1, 1\n",
    "\n",
    "while trg_idx_2 < l:\n",
    "    src_idx_2 = src_idx_1 + seq_length\n",
    "    trg_idx_2 = trg_idx_1 + seq_length + pred_window - 1\n",
    "    \n",
    "    src = source[:, src_idx_1:src_idx_2]\n",
    "    trg_stub = target[:, trg_idx_1:trg_idx_2-pred_window]\n",
    "    y_hat[0, trg_idx_2-pred_window:trg_idx_2] = model.predict(src, trg_stub, False)\n",
    "    \n",
    "    src_idx_1 += pred_window\n",
    "    trg_idx_1 += pred_window\n",
    "\n",
    "plt.plot(y_hat[0,seq_length:], label = 'predictions')\n",
    "plt.plot(y[0,seq_length:],label = 'true values')\n",
    "plt.legend()\n",
    "plt.show()"
   ]
  },
  {
   "cell_type": "code",
   "execution_count": null,
   "id": "598467ac-4292-437d-9f38-31ef54590aee",
   "metadata": {},
   "outputs": [],
   "source": [
    "np.sum((np.where(y_hat>0, np.where(y>0,1,0),0)+np.where(y_hat<=0, np.where(y<=0,1,0),0)))/np.shape(y_hat)[1]"
   ]
  },
  {
   "cell_type": "code",
   "execution_count": null,
   "id": "d40e7422-ca20-4ef0-b4f4-794488a417d0",
   "metadata": {},
   "outputs": [],
   "source": []
  }
 ],
 "metadata": {
  "kernelspec": {
   "display_name": "Python 3 (ipykernel)",
   "language": "python",
   "name": "python3"
  },
  "language_info": {
   "codemirror_mode": {
    "name": "ipython",
    "version": 3
   },
   "file_extension": ".py",
   "mimetype": "text/x-python",
   "name": "python",
   "nbconvert_exporter": "python",
   "pygments_lexer": "ipython3",
   "version": "3.9.13"
  }
 },
 "nbformat": 4,
 "nbformat_minor": 5
}
