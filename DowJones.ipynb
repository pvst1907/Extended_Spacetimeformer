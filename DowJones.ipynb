{
 "cells": [
  {
   "cell_type": "code",
   "execution_count": 1,
   "id": "a11f2599-f9e9-4067-ae93-9ae2f956df82",
   "metadata": {
    "scrolled": true
   },
   "outputs": [
    {
     "name": "stderr",
     "output_type": "stream",
     "text": [
      "C:\\Users\\Haris\\anaconda3\\envs\\Transformers_Project\\lib\\site-packages\\tqdm\\auto.py:22: TqdmWarning: IProgress not found. Please update jupyter and ipywidgets. See https://ipywidgets.readthedocs.io/en/stable/user_install.html\n",
      "  from .autonotebook import tqdm as notebook_tqdm\n"
     ]
    }
   ],
   "source": [
    "import torch.nn as nn\n",
    "import numpy as np\n",
    "import yfinance as yf\n",
    "import pandas as pd\n",
    "import matplotlib.pyplot as plt\n",
    "from sklearn import preprocessing\n",
    "from transformer import SpaceTimeFormer\n",
    "import torch\n",
    "import datetime as dt"
   ]
  },
  {
   "cell_type": "code",
   "execution_count": 2,
   "id": "5a603a34-680a-4dc1-89d7-31bac62cee32",
   "metadata": {
    "tags": []
   },
   "outputs": [
    {
     "name": "stdout",
     "output_type": "stream",
     "text": [
      "[*********************100%***********************]  1 of 1 completed\n",
      "[*********************100%***********************]  1 of 1 completed\n",
      "[*********************100%***********************]  1 of 1 completed\n",
      "[*********************100%***********************]  1 of 1 completed\n",
      "[*********************100%***********************]  1 of 1 completed\n",
      "[*********************100%***********************]  1 of 1 completed\n",
      "[*********************100%***********************]  1 of 1 completed\n",
      "[*********************100%***********************]  1 of 1 completed\n",
      "[*********************100%***********************]  1 of 1 completed\n",
      "[*********************100%***********************]  1 of 1 completed\n",
      "[*********************100%***********************]  1 of 1 completed\n",
      "[*********************100%***********************]  1 of 1 completed\n",
      "[*********************100%***********************]  1 of 1 completed\n",
      "[*********************100%***********************]  1 of 1 completed\n",
      "[*********************100%***********************]  1 of 1 completed\n",
      "[*********************100%***********************]  1 of 1 completed\n",
      "[*********************100%***********************]  1 of 1 completed\n",
      "[*********************100%***********************]  1 of 1 completed\n",
      "[*********************100%***********************]  1 of 1 completed\n",
      "[*********************100%***********************]  1 of 1 completed\n",
      "[*********************100%***********************]  1 of 1 completed\n",
      "[*********************100%***********************]  1 of 1 completed\n",
      "[*********************100%***********************]  1 of 1 completed\n",
      "[*********************100%***********************]  1 of 1 completed\n",
      "[*********************100%***********************]  1 of 1 completed\n",
      "[*********************100%***********************]  1 of 1 completed\n",
      "[*********************100%***********************]  1 of 1 completed\n",
      "[*********************100%***********************]  1 of 1 completed\n",
      "[*********************100%***********************]  1 of 1 completed\n",
      "[*********************100%***********************]  1 of 1 completed\n",
      "[*********************100%***********************]  1 of 1 completed\n",
      "[*********************100%***********************]  1 of 1 completed\n"
     ]
    }
   ],
   "source": [
    "def download_data(TICKER, START_DATE, END_DATE):\n",
    "    data = yf.download(TICKER, start= START_DATE, end = END_DATE)\n",
    "    data = data['Close']\n",
    "    return data\n",
    "\n",
    "date_start = '2022-01-03'\n",
    "date_end = '2022-12-03'\n",
    "\n",
    "#Stocks\n",
    "ticker = {\n",
    "    'VIX': ['^VIX','Volatility_Index'],\n",
    "    'UnitedHealth Group': ['UNH', 'Health Care'],\n",
    "    'Goldman Sachs': ['GS', 'Financials'],\n",
    "    'Home Depot': ['HD', 'Consumer Discretionary'],\n",
    "    'Amgen': ['AMGN', 'Helth Care'],\n",
    "    'McDonalds': ['MCD','Consumer Discretionary'],\n",
    "    'Microsoft': ['MSFT', 'Information Technology'],\n",
    "    'Caterpillar': ['CAT','Industrials'],\n",
    "    'Honeywell': ['HON', 'Industrials'],\n",
    "    'Visa':['V','Information Technology'],\n",
    "    'Boeing':['BA', 'Industrials'],\n",
    "    'Travelers Companies': ['TRV','Financials'],\n",
    "    'Johnson&Johnson': ['JNJ', 'Health Care'],\n",
    "    'Chevron': ['CVX', 'Energy'],\n",
    "    'American Express':['AXP', 'Financials'],\n",
    "    'Procter&Gamble': ['PG', 'Consumer Staples'],\n",
    "    'IBM':['IBM', 'Information Technology'],\n",
    "    'Walmart': ['WMT', 'Consumer Staples'],\n",
    "    'Apple':['AAPL','Information Technology'],\n",
    "    'Salesforce': ['CRM', 'Information Technology'],\n",
    "    'JP Morgan': ['JPM','Financials'],\n",
    "    '3M': ['MMM', 'Industrials'],\n",
    "    'Merck & Co': ['MRK', 'Health Care'],\n",
    "    'Nike': ['NKE', 'Consumer Discretionary'],\n",
    "    'Walt Disney': ['DIS', 'Communication Services'],\n",
    "    'Coca Cola':['KO','Consumer Staples'],\n",
    "    'Dow Inc':['DOW','Materials'],\n",
    "    'Cisco':['CSCO','Information Technology'],\n",
    "    'Walgreens': ['WBA', 'Consumer Staples'],\n",
    "    'Verizon': ['VZ', 'Communication Services'],\n",
    "    'Intel':['INTC', 'Information Technology'],\n",
    "    'DowJones': ['^DJI', 'Index'],\n",
    "}\n",
    "\n",
    "#load data\n",
    "df = pd.concat([download_data(name[0], date_start, date_end) for name in ticker.values()], axis=1)\n",
    "\n",
    "#rename columns\n",
    "df.set_axis([name for name in ticker.keys()], axis=1, copy=True)\n",
    "\n",
    "#calculate returns\n",
    "df = df.pct_change(1)\n",
    "df.replace([np.inf, -np.inf], np.nan, inplace=True)\n",
    "df = df.dropna()\n",
    "datetime = df.index\n",
    "df = df.to_numpy().transpose()"
   ]
  },
  {
   "cell_type": "code",
   "execution_count": 3,
   "id": "da85fbba-e112-42f1-a378-6ee22611c67b",
   "metadata": {},
   "outputs": [],
   "source": [
    "sectors_list = []\n",
    "sectors = []\n",
    "for sector in ticker.values():\n",
    "    if sector[1] not in sectors:\n",
    "        sectors.append(sector[1])\n",
    "    if sector[1] != 'Index':\n",
    "        sectors_list.append(sectors.index(sector[1])) "
   ]
  },
  {
   "cell_type": "code",
   "execution_count": 4,
   "id": "fb70869f-6156-49ef-82ee-ee2f06c26f83",
   "metadata": {},
   "outputs": [],
   "source": [
    "sequence_souce = df[:-1, :]\n",
    "sequence_target = df[-1, :].reshape(1,-1)"
   ]
  },
  {
   "cell_type": "code",
   "execution_count": 5,
   "id": "08475997-90f0-447d-9781-5c7d62a43ef1",
   "metadata": {},
   "outputs": [],
   "source": [
    "split = 0.7\n",
    "pred_window = 1\n",
    "seq_length = 5\n",
    "datetime_train = datetime[:int(split*len(datetime))]\n",
    "datetime_test = datetime[int(split*len(datetime)):]\n",
    "sequence_source_train = sequence_souce[:, :int(np.shape(sequence_souce)[1]*split)]\n",
    "sequence_source_test = sequence_souce[:, int(np.shape(sequence_souce)[1]*split):]\n",
    "sequence_target_train = sequence_target[:, :int(np.shape(sequence_target)[1]*split)]\n",
    "sequence_target_test = sequence_target[:, int(np.shape(sequence_target)[1]*split):]"
   ]
  },
  {
   "cell_type": "code",
   "execution_count": 6,
   "id": "c8b8656b",
   "metadata": {},
   "outputs": [],
   "source": [
    "## Scaling ###\n",
    "from sklearn.preprocessing import MinMaxScaler\n",
    "from sklearn.preprocessing import StandardScaler\n",
    "scaler = StandardScaler()\n",
    "scaler.fit(np.transpose(sequence_source_train))\n",
    "sequence_source_train = np.transpose(scaler.transform(np.transpose(sequence_source_train)))\n",
    "sequence_source_test = np.transpose(scaler.transform(np.transpose(sequence_source_test)))"
   ]
  },
  {
   "cell_type": "code",
   "execution_count": 7,
   "id": "bc5a60f5-9992-4687-b233-dd20bd44ca9d",
   "metadata": {},
   "outputs": [],
   "source": [
    "model = SpaceTimeFormer(pred_offset = pred_window,\n",
    "                        input_size = 31,\n",
    "                        output_size = 1,\n",
    "                        seq_length = seq_length,\n",
    "                        sectors_list = sectors_list,\n",
    "                        datetime_index = datetime,\n",
    "                        embedding_size_time = 10,\n",
    "                        embedding_size_variable = 10,\n",
    "                        embedding_size_sector = 10)"
   ]
  },
  {
   "cell_type": "code",
   "execution_count": 8,
   "id": "d87f3957",
   "metadata": {},
   "outputs": [
    {
     "name": "stdout",
     "output_type": "stream",
     "text": [
      "sequence torch.Size([64, 5, 31])\n",
      "sequence torch.Size([64, 5, 31])\n",
      "sequence torch.Size([12, 5, 31])\n",
      "sequence torch.Size([13, 5, 31])\n"
     ]
    },
    {
     "ename": "KeyboardInterrupt",
     "evalue": "",
     "output_type": "error",
     "traceback": [
      "\u001b[1;31m---------------------------------------------------------------------------\u001b[0m",
      "\u001b[1;31mKeyboardInterrupt\u001b[0m                         Traceback (most recent call last)",
      "Cell \u001b[1;32mIn [8], line 1\u001b[0m\n\u001b[1;32m----> 1\u001b[0m \u001b[43mmodel\u001b[49m\u001b[38;5;241;43m.\u001b[39;49m\u001b[43mstart_training\u001b[49m\u001b[43m(\u001b[49m\u001b[43msource\u001b[49m\u001b[43m \u001b[49m\u001b[38;5;241;43m=\u001b[39;49m\u001b[43m \u001b[49m\u001b[43msequence_source_train\u001b[49m\u001b[43m,\u001b[49m\n\u001b[0;32m      2\u001b[0m \u001b[43m                     \u001b[49m\u001b[43mtarget\u001b[49m\u001b[43m \u001b[49m\u001b[38;5;241;43m=\u001b[39;49m\u001b[43m \u001b[49m\u001b[43msequence_target_train\u001b[49m\u001b[43m,\u001b[49m\n\u001b[0;32m      3\u001b[0m \u001b[43m                     \u001b[49m\u001b[43mloss\u001b[49m\u001b[43m \u001b[49m\u001b[38;5;241;43m=\u001b[39;49m\u001b[43m \u001b[49m\u001b[43mnn\u001b[49m\u001b[38;5;241;43m.\u001b[39;49m\u001b[43mMSELoss\u001b[49m\u001b[43m(\u001b[49m\u001b[43m)\u001b[49m\u001b[43m,\u001b[49m\n\u001b[0;32m      4\u001b[0m \u001b[43m                     \u001b[49m\u001b[43mmetric\u001b[49m\u001b[43m \u001b[49m\u001b[38;5;241;43m=\u001b[39;49m\u001b[43m \u001b[49m\u001b[43mnn\u001b[49m\u001b[38;5;241;43m.\u001b[39;49m\u001b[43mMSELoss\u001b[49m\u001b[43m(\u001b[49m\u001b[43m)\u001b[49m\u001b[43m,\u001b[49m\n\u001b[0;32m      5\u001b[0m \u001b[43m                     \u001b[49m\u001b[43mepochs\u001b[49m\u001b[43m \u001b[49m\u001b[38;5;241;43m=\u001b[39;49m\u001b[43m \u001b[49m\u001b[38;5;241;43m30\u001b[39;49m\u001b[43m,\u001b[49m\n\u001b[0;32m      6\u001b[0m \u001b[43m                     \u001b[49m\u001b[43mbatch_size\u001b[49m\u001b[43m \u001b[49m\u001b[38;5;241;43m=\u001b[39;49m\u001b[43m \u001b[49m\u001b[38;5;241;43m64\u001b[39;49m\u001b[43m,\u001b[49m\n\u001b[0;32m      7\u001b[0m \u001b[43m                     \u001b[49m\u001b[43mlearning_rate\u001b[49m\u001b[43m \u001b[49m\u001b[38;5;241;43m=\u001b[39;49m\u001b[43m \u001b[49m\u001b[38;5;241;43m1e-3\u001b[39;49m\u001b[43m,\u001b[49m\n\u001b[0;32m      8\u001b[0m \u001b[43m                     \u001b[49m\u001b[43mstandardize\u001b[49m\u001b[43m \u001b[49m\u001b[38;5;241;43m=\u001b[39;49m\u001b[43m \u001b[49m\u001b[38;5;28;43;01mFalse\u001b[39;49;00m\u001b[43m,\u001b[49m\n\u001b[0;32m      9\u001b[0m \u001b[43m                     \u001b[49m\u001b[43mverbose\u001b[49m\u001b[43m \u001b[49m\u001b[38;5;241;43m=\u001b[39;49m\u001b[43m \u001b[49m\u001b[38;5;28;43;01mFalse\u001b[39;49;00m\u001b[43m,\u001b[49m\n\u001b[0;32m     10\u001b[0m \u001b[43m                     \u001b[49m\u001b[43mplot\u001b[49m\u001b[43m \u001b[49m\u001b[38;5;241;43m=\u001b[39;49m\u001b[43m \u001b[49m\u001b[38;5;28;43;01mTrue\u001b[39;49;00m\u001b[43m)\u001b[49m\n\u001b[0;32m     11\u001b[0m model\u001b[38;5;241m.\u001b[39mscores\n",
      "File \u001b[1;32m~\\PycharmProjects\\GitHub\\TS_Transformer\\transformer.py:93\u001b[0m, in \u001b[0;36mSpaceTimeFormer.start_training\u001b[1;34m(self, source, target, loss, metric, epochs, batch_size, learning_rate, test_size, standardize, verbose, plot)\u001b[0m\n\u001b[0;32m     90\u001b[0m encoder_optimizer \u001b[38;5;241m=\u001b[39m optim\u001b[38;5;241m.\u001b[39mAdam(\u001b[38;5;28mself\u001b[39m\u001b[38;5;241m.\u001b[39mencoder\u001b[38;5;241m.\u001b[39mparameters(), lr\u001b[38;5;241m=\u001b[39mlearning_rate)\n\u001b[0;32m     91\u001b[0m decoder_optimizer \u001b[38;5;241m=\u001b[39m optim\u001b[38;5;241m.\u001b[39mAdam(\u001b[38;5;28mself\u001b[39m\u001b[38;5;241m.\u001b[39mdecoder\u001b[38;5;241m.\u001b[39mparameters(), lr\u001b[38;5;241m=\u001b[39mlearning_rate)\n\u001b[1;32m---> 93\u001b[0m \u001b[38;5;28mself\u001b[39m\u001b[38;5;241m.\u001b[39mscores[\u001b[38;5;124m'\u001b[39m\u001b[38;5;124mTrain\u001b[39m\u001b[38;5;124m'\u001b[39m], \u001b[38;5;28mself\u001b[39m\u001b[38;5;241m.\u001b[39mscores[\u001b[38;5;124m'\u001b[39m\u001b[38;5;124mEvaluation\u001b[39m\u001b[38;5;124m'\u001b[39m] \u001b[38;5;241m=\u001b[39m \u001b[43mtrain_torch\u001b[49m\u001b[43m(\u001b[49m\u001b[38;5;28;43mself\u001b[39;49m\u001b[43m,\u001b[49m\u001b[43m \u001b[49m\u001b[43mtrain_iter\u001b[49m\u001b[43m,\u001b[49m\u001b[43m \u001b[49m\u001b[43mtest_iter\u001b[49m\u001b[43m,\u001b[49m\u001b[43m \u001b[49m\u001b[43mloss\u001b[49m\u001b[43m,\u001b[49m\u001b[43m \u001b[49m\u001b[43mmetric\u001b[49m\u001b[43m,\u001b[49m\u001b[43m \u001b[49m\u001b[43mepochs\u001b[49m\u001b[43m,\u001b[49m\u001b[43m \u001b[49m\u001b[43mencoder_optimizer\u001b[49m\u001b[43m,\u001b[49m\u001b[43m \u001b[49m\u001b[43mdecoder_optimizer\u001b[49m\u001b[43m,\u001b[49m\u001b[43m \u001b[49m\u001b[43mverbose\u001b[49m\u001b[38;5;241;43m=\u001b[39;49m\u001b[43mverbose\u001b[49m\u001b[43m,\u001b[49m\u001b[43m \u001b[49m\u001b[43mplot\u001b[49m\u001b[38;5;241;43m=\u001b[39;49m\u001b[43mplot\u001b[49m\u001b[43m)\u001b[49m\n",
      "File \u001b[1;32m~\\PycharmProjects\\GitHub\\TS_Transformer\\train.py:52\u001b[0m, in \u001b[0;36mtrain_torch\u001b[1;34m(xformer, train_iter, test_iter, loss, metric, epochs, encoder_optimizer, decoder_optimizer, patience, verbose, plot)\u001b[0m\n\u001b[0;32m     50\u001b[0m \u001b[38;5;28;01mif\u001b[39;00m np\u001b[38;5;241m.\u001b[39misnan(min_loss) \u001b[38;5;129;01mor\u001b[39;00m train_tracker \u001b[38;5;241m<\u001b[39m min_loss:\n\u001b[0;32m     51\u001b[0m     min_loss \u001b[38;5;241m=\u001b[39m train_tracker\n\u001b[1;32m---> 52\u001b[0m     state_dict \u001b[38;5;241m=\u001b[39m \u001b[43mcopy\u001b[49m\u001b[38;5;241;43m.\u001b[39;49m\u001b[43mdeepcopy\u001b[49m\u001b[43m(\u001b[49m\u001b[43mxformer\u001b[49m\u001b[38;5;241;43m.\u001b[39;49m\u001b[43mstate_dict\u001b[49m\u001b[43m(\u001b[49m\u001b[43m)\u001b[49m\u001b[43m)\u001b[49m\n\u001b[0;32m     53\u001b[0m     epochs_no_improve \u001b[38;5;241m=\u001b[39m \u001b[38;5;241m0\u001b[39m\n\u001b[0;32m     54\u001b[0m \u001b[38;5;28;01mif\u001b[39;00m epoch \u001b[38;5;241m>\u001b[39m \u001b[38;5;241m5\u001b[39m \u001b[38;5;129;01mand\u001b[39;00m epochs_no_improve \u001b[38;5;241m>\u001b[39m patience:\n",
      "File \u001b[1;32m~\\anaconda3\\envs\\Transformers_Project\\lib\\copy.py:172\u001b[0m, in \u001b[0;36mdeepcopy\u001b[1;34m(x, memo, _nil)\u001b[0m\n\u001b[0;32m    170\u001b[0m                 y \u001b[38;5;241m=\u001b[39m x\n\u001b[0;32m    171\u001b[0m             \u001b[38;5;28;01melse\u001b[39;00m:\n\u001b[1;32m--> 172\u001b[0m                 y \u001b[38;5;241m=\u001b[39m \u001b[43m_reconstruct\u001b[49m\u001b[43m(\u001b[49m\u001b[43mx\u001b[49m\u001b[43m,\u001b[49m\u001b[43m \u001b[49m\u001b[43mmemo\u001b[49m\u001b[43m,\u001b[49m\u001b[43m \u001b[49m\u001b[38;5;241;43m*\u001b[39;49m\u001b[43mrv\u001b[49m\u001b[43m)\u001b[49m\n\u001b[0;32m    174\u001b[0m \u001b[38;5;66;03m# If is its own copy, don't memoize.\u001b[39;00m\n\u001b[0;32m    175\u001b[0m \u001b[38;5;28;01mif\u001b[39;00m y \u001b[38;5;129;01mis\u001b[39;00m \u001b[38;5;129;01mnot\u001b[39;00m x:\n",
      "File \u001b[1;32m~\\anaconda3\\envs\\Transformers_Project\\lib\\copy.py:297\u001b[0m, in \u001b[0;36m_reconstruct\u001b[1;34m(x, memo, func, args, state, listiter, dictiter, deepcopy)\u001b[0m\n\u001b[0;32m    295\u001b[0m     \u001b[38;5;28;01mfor\u001b[39;00m key, value \u001b[38;5;129;01min\u001b[39;00m dictiter:\n\u001b[0;32m    296\u001b[0m         key \u001b[38;5;241m=\u001b[39m deepcopy(key, memo)\n\u001b[1;32m--> 297\u001b[0m         value \u001b[38;5;241m=\u001b[39m \u001b[43mdeepcopy\u001b[49m\u001b[43m(\u001b[49m\u001b[43mvalue\u001b[49m\u001b[43m,\u001b[49m\u001b[43m \u001b[49m\u001b[43mmemo\u001b[49m\u001b[43m)\u001b[49m\n\u001b[0;32m    298\u001b[0m         y[key] \u001b[38;5;241m=\u001b[39m value\n\u001b[0;32m    299\u001b[0m \u001b[38;5;28;01melse\u001b[39;00m:\n",
      "File \u001b[1;32m~\\anaconda3\\envs\\Transformers_Project\\lib\\copy.py:153\u001b[0m, in \u001b[0;36mdeepcopy\u001b[1;34m(x, memo, _nil)\u001b[0m\n\u001b[0;32m    151\u001b[0m copier \u001b[38;5;241m=\u001b[39m \u001b[38;5;28mgetattr\u001b[39m(x, \u001b[38;5;124m\"\u001b[39m\u001b[38;5;124m__deepcopy__\u001b[39m\u001b[38;5;124m\"\u001b[39m, \u001b[38;5;28;01mNone\u001b[39;00m)\n\u001b[0;32m    152\u001b[0m \u001b[38;5;28;01mif\u001b[39;00m copier \u001b[38;5;129;01mis\u001b[39;00m \u001b[38;5;129;01mnot\u001b[39;00m \u001b[38;5;28;01mNone\u001b[39;00m:\n\u001b[1;32m--> 153\u001b[0m     y \u001b[38;5;241m=\u001b[39m \u001b[43mcopier\u001b[49m\u001b[43m(\u001b[49m\u001b[43mmemo\u001b[49m\u001b[43m)\u001b[49m\n\u001b[0;32m    154\u001b[0m \u001b[38;5;28;01melse\u001b[39;00m:\n\u001b[0;32m    155\u001b[0m     reductor \u001b[38;5;241m=\u001b[39m dispatch_table\u001b[38;5;241m.\u001b[39mget(\u001b[38;5;28mcls\u001b[39m)\n",
      "File \u001b[1;32m~\\anaconda3\\envs\\Transformers_Project\\lib\\site-packages\\torch\\_tensor.py:182\u001b[0m, in \u001b[0;36mTensor.__deepcopy__\u001b[1;34m(self, memo)\u001b[0m\n\u001b[0;32m    175\u001b[0m         \u001b[38;5;28;01mraise\u001b[39;00m \u001b[38;5;167;01mRuntimeError\u001b[39;00m(\n\u001b[0;32m    176\u001b[0m             \u001b[38;5;124m\"\u001b[39m\u001b[38;5;124mThe default implementation of __deepcopy__() for quantized tensors \u001b[39m\u001b[38;5;124m\"\u001b[39m\n\u001b[0;32m    177\u001b[0m             \u001b[38;5;124m\"\u001b[39m\u001b[38;5;124mexpects the tensor returned by torch._utils._rebuild_qtensor() to \u001b[39m\u001b[38;5;124m\"\u001b[39m\n\u001b[0;32m    178\u001b[0m             \u001b[38;5;124m\"\u001b[39m\u001b[38;5;124mmatch the type of the instance being copied. If you encounter this, \u001b[39m\u001b[38;5;124m\"\u001b[39m\n\u001b[0;32m    179\u001b[0m             \u001b[38;5;124m\"\u001b[39m\u001b[38;5;124mplease open an issue on PyTorch\u001b[39m\u001b[38;5;124m'\u001b[39m\u001b[38;5;124ms GitHub.\u001b[39m\u001b[38;5;124m\"\u001b[39m\n\u001b[0;32m    180\u001b[0m         )\n\u001b[0;32m    181\u001b[0m \u001b[38;5;28;01melse\u001b[39;00m:\n\u001b[1;32m--> 182\u001b[0m     new_tensor \u001b[38;5;241m=\u001b[39m \u001b[38;5;28;43mself\u001b[39;49m\u001b[38;5;241;43m.\u001b[39;49m\u001b[43mnew_empty\u001b[49m\u001b[43m(\u001b[49m\u001b[43m[\u001b[49m\u001b[43m]\u001b[49m\u001b[43m)\u001b[49m\n\u001b[0;32m    183\u001b[0m     \u001b[38;5;28;01mif\u001b[39;00m \u001b[38;5;28mtype\u001b[39m(new_tensor) \u001b[38;5;129;01mis\u001b[39;00m \u001b[38;5;129;01mnot\u001b[39;00m \u001b[38;5;28mtype\u001b[39m(\u001b[38;5;28mself\u001b[39m):\n\u001b[0;32m    184\u001b[0m         \u001b[38;5;28;01mraise\u001b[39;00m \u001b[38;5;167;01mRuntimeError\u001b[39;00m(\n\u001b[0;32m    185\u001b[0m             \u001b[38;5;124m\"\u001b[39m\u001b[38;5;124mThe default implementation of __deepcopy__() for non-wrapper subclasses \u001b[39m\u001b[38;5;124m\"\u001b[39m\n\u001b[0;32m    186\u001b[0m             \u001b[38;5;124m\"\u001b[39m\u001b[38;5;124monly works for subclass types that implement new_empty() and for which \u001b[39m\u001b[38;5;124m\"\u001b[39m\n\u001b[1;32m   (...)\u001b[0m\n\u001b[0;32m    190\u001b[0m             \u001b[38;5;124m\"\u001b[39m\u001b[38;5;124man instance of a different type.\u001b[39m\u001b[38;5;124m\"\u001b[39m\n\u001b[0;32m    191\u001b[0m         )\n",
      "\u001b[1;31mKeyboardInterrupt\u001b[0m: "
     ]
    },
    {
     "data": {
      "image/png": "[encoded data removed]",
      "text/plain": [
       "<Figure size 500x300 with 1 Axes>"
      ]
     },
     "metadata": {},
     "output_type": "display_data"
    }
   ],
   "source": [
    "model.start_training(source = sequence_source_train,\n",
    "                     target = sequence_target_train,\n",
    "                     loss = nn.MSELoss(),\n",
    "                     metric = nn.MSELoss(),\n",
    "                     epochs = 30,\n",
    "                     batch_size = 64,\n",
    "                     learning_rate = 1e-3,\n",
    "                     standardize = False,\n",
    "                     verbose = False,\n",
    "                     plot = True)\n",
    "model.scores"
   ]
  },
  {
   "cell_type": "code",
   "execution_count": null,
   "id": "b979dfac-829e-4c72-b615-d3d90095d3ac",
   "metadata": {
    "scrolled": false
   },
   "outputs": [],
   "source": [
    "source = sequence_source_train\n",
    "target = sequence_target_train\n",
    "\n",
    "l = np.shape(sequence_source_train)[1]\n",
    "y_hat = np.zeros((1,l))\n",
    "y = target\n",
    "\n",
    "src_idx_1, src_idx_2 = 0, 0\n",
    "trg_idx_1, trg_idx_2 = 1, 1\n",
    "\n",
    "while trg_idx_2 < l:\n",
    "    src_idx_2 = src_idx_1 + seq_length\n",
    "    trg_idx_2 = trg_idx_1 + seq_length + pred_window - 1\n",
    "    \n",
    "    src = source[:, src_idx_1:src_idx_2]\n",
    "    trg_stub = target[:, trg_idx_1:trg_idx_2-pred_window]\n",
    "    y_hat[0, trg_idx_2-pred_window:trg_idx_2] = model.predict(src, trg_stub, False)\n",
    "    \n",
    "    src_idx_1 += pred_window\n",
    "    trg_idx_1 += pred_window\n",
    "\n",
    "plt.plot(y_hat[0,seq_length:], label = 'predictions')\n",
    "plt.plot(y[0,seq_length:],label = 'true values')\n",
    "plt.legend()\n",
    "plt.show()"
   ]
  },
  {
   "cell_type": "code",
   "execution_count": null,
   "id": "0ff5ee17",
   "metadata": {},
   "outputs": [],
   "source": [
    "hit_rate = np.sum((np.where(y_hat>0,np.where(y>0,1,0),0)+np.where(y_hat<=0,np.where(y<=0,1,0),0)))/np.shape(y)[1]\n",
    "hit_rate"
   ]
  },
  {
   "cell_type": "code",
   "execution_count": null,
   "id": "a3af384e-ab5d-4e9a-bdab-e6fe2cfb530b",
   "metadata": {},
   "outputs": [],
   "source": [
    "source = sequence_source_test\n",
    "target = sequence_target_test\n",
    "\n",
    "l = np.shape(sequence_source_test)[1]\n",
    "y_hat = np.zeros((1,l))\n",
    "y = target\n",
    "\n",
    "src_idx_1, src_idx_2 = 0, 0\n",
    "trg_idx_1, trg_idx_2 = 1, 1\n",
    "\n",
    "while trg_idx_2 < l:\n",
    "    src_idx_2 = src_idx_1 + seq_length\n",
    "    trg_idx_2 = trg_idx_1 + seq_length + pred_window - 1\n",
    "    \n",
    "    src = source[:, src_idx_1:src_idx_2]\n",
    "    trg_stub = target[:, trg_idx_1:trg_idx_2-pred_window]\n",
    "    y_hat[0, trg_idx_2-pred_window:trg_idx_2] = model.predict(src, trg_stub, False)\n",
    "    \n",
    "    src_idx_1 += pred_window\n",
    "    trg_idx_1 += pred_window\n",
    "\n",
    "plt.plot(y_hat[0,seq_length:], label = 'predictions')\n",
    "plt.plot(y[0,seq_length:],label = 'true values')\n",
    "plt.legend()\n",
    "plt.show()"
   ]
  },
  {
   "cell_type": "code",
   "execution_count": null,
   "id": "5a093cff-07aa-4d5c-892a-fa00b76da653",
   "metadata": {},
   "outputs": [],
   "source": [
    "np.sum((np.where(y_hat>0,np.where(y>0,1,0),0)+np.where(y_hat<=0,np.where(y<=0,1,0),0)))/np.shape(y)[1]"
   ]
  }
 ],
 "metadata": {
  "kernelspec": {
   "display_name": "Python 3 (ipykernel)",
   "language": "python",
   "name": "python3"
  },
  "language_info": {
   "codemirror_mode": {
    "name": "ipython",
    "version": 3
   },
   "file_extension": ".py",
   "mimetype": "text/x-python",
   "name": "python",
   "nbconvert_exporter": "python",
   "pygments_lexer": "ipython3",
   "version": "3.10.0"
  }
 },
 "nbformat": 4,
 "nbformat_minor": 5
}
